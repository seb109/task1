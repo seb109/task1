import pandas as pd
import numpy as np
import matplotlib.pyplot as plt
import seaborn as sns
df = pd.read_csv("titanic.csv")

# View the first 5 rows
df.head()
# Step 2.1: Shape of the dataset
print("Shape:", df.shape)

# Step 2.2: Dataset info - data types, non-null counts
print("\nInfo:")
df.info()

# Step 2.3: Statistical summary of numeric columns
print("\nDescribe:")
print(df.describe())

# Step 2.4: Check for missing values
print("\nMissing values:")
print(df.isnull().sum())
# Step 3.1: Fill missing 'Age' values with median
df['Age'].fillna(df['Age'].median(), inplace=True)

# Step 3.2: Fill missing 'Embarked' values with mode (most common)
df['Embarked'].fillna(df['Embarked'].mode()[0], inplace=True)

# Step 3.3: Drop 'Cabin' column (too many missing values)
df.drop(columns='Cabin', inplace=True)

# Step 3.4: Verify that all missing values are handled
print("\nMissing values after cleaning:")
print(df.isnull().sum())
# Step 4: Convert categorical columns ('Sex', 'Embarked') to numerical using one-hot encoding
df = pd.get_dummies(df, columns=['Sex', 'Embarked'], drop_first=True)

# View updated columns
print("\nColumns after encoding:")
print(df.columns)
from sklearn.preprocessing import StandardScaler

# Step 5: Normalize/Standardize the 'Age' and 'Fare' columns
scaler = StandardScaler()
df[['Age', 'Fare']] = scaler.fit_transform(df[['Age', 'Fare']])

# View changes
df[['Age', 'Fare']].head()
# Step 6.1: Visualize outliers using boxplots
plt.figure(figsize=(10, 5))
sns.boxplot(data=df[['Age', 'Fare']])
plt.title("Boxplot of Age and Fare")
plt.show()
# Step 6.2: Remove outliers in Fare (optional - keep it if not extreme)
df = df[df['Fare'] < 300]
# Final check - show final DataFrame structure
print("Final cleaned dataset shape:", df.shape)
print("Final columns:", df.columns)
